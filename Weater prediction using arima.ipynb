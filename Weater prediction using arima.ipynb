{
 "cells": [
  {
   "cell_type": "code",
   "execution_count": 219,
   "id": "4853ca32-f5c6-439d-98df-3c323e820231",
   "metadata": {},
   "outputs": [],
   "source": [
    "import pandas as pd\n",
    "import matplotlib.pyplot as plt\n",
    "import seaborn as sns\n",
    "sns.set()\n",
    "from statsmodels.tsa.arima.model import ARIMA\n",
    "import matplotlib.pyplot as plt"
   ]
  },
  {
   "cell_type": "code",
   "execution_count": 529,
   "id": "7062a5e2-96c9-4bec-a7d6-2c65b2372413",
   "metadata": {},
   "outputs": [],
   "source": [
    "df = pd.read_excel('Book1.xlsx', index_col = 'datetime')"
   ]
  },
  {
   "cell_type": "code",
   "execution_count": 530,
   "id": "8bcf7d6c-8a88-4f7b-a923-9e5d6a8da706",
   "metadata": {},
   "outputs": [
    {
     "data": {
      "text/plain": [
       "Index(['name', 'tempmax', 'tempmin', 'temp', 'feelslikemax', 'feelslikemin',\n",
       "       'feelslike', 'dew', 'humidity', 'precip', 'precipprob', 'precipcover',\n",
       "       'preciptype', 'flood occurrence', 'windgust', 'windspeed', 'winddir',\n",
       "       'sealevelpressure', 'cloudcover', 'visibility', 'solarradiation',\n",
       "       'solarenergy', 'uvindex', 'severerisk', 'sunrise', 'sunset',\n",
       "       'moonphase', 'conditions', 'description', 'icon', 'stations',\n",
       "       'windspeedmax', 'windspeedmin'],\n",
       "      dtype='object')"
      ]
     },
     "execution_count": 530,
     "metadata": {},
     "output_type": "execute_result"
    }
   ],
   "source": [
    "df.columns"
   ]
  },
  {
   "cell_type": "code",
   "execution_count": 531,
   "id": "bae4ee12-b763-42ea-adde-d3e53bf2c2ba",
   "metadata": {},
   "outputs": [
    {
     "data": {
      "text/plain": [
       "DatetimeIndex(['2004-05-13', '2004-05-14', '2004-05-15', '2004-05-16',\n",
       "               '2004-05-17', '2004-05-18', '2004-05-19', '2004-05-20',\n",
       "               '2004-05-21', '2004-05-22',\n",
       "               ...\n",
       "               '2024-06-24', '2024-06-25', '2024-06-26', '2024-06-27',\n",
       "               '2024-06-28', '2024-06-29', '2024-06-30', '2024-07-01',\n",
       "               '2024-07-02', '2024-07-03'],\n",
       "              dtype='datetime64[ns]', name='datetime', length=7357, freq=None)"
      ]
     },
     "execution_count": 531,
     "metadata": {},
     "output_type": "execute_result"
    }
   ],
   "source": [
    "df.index"
   ]
  },
  {
   "cell_type": "markdown",
   "id": "c08959ce-b004-4897-8643-f4f0e629e501",
   "metadata": {},
   "source": [
    "let us convert the datetime to the correct data types"
   ]
  },
  {
   "cell_type": "code",
   "execution_count": 532,
   "id": "4814dcb0-b92c-432b-b00f-fa46382ef293",
   "metadata": {},
   "outputs": [],
   "source": [
    "df.index = pd.to_datetime(df.index)"
   ]
  },
  {
   "cell_type": "code",
   "execution_count": 533,
   "id": "5be6ab32-3d62-464e-a2e3-20b5fb0c6d98",
   "metadata": {},
   "outputs": [],
   "source": [
    "df.sort_index(inplace=True)"
   ]
  },
  {
   "cell_type": "code",
   "execution_count": 534,
   "id": "be5ab1af-172f-41f3-b744-126f250d5c71",
   "metadata": {},
   "outputs": [],
   "source": [
    "df = df.asfreq('D')"
   ]
  },
  {
   "cell_type": "code",
   "execution_count": 535,
   "id": "df4d41be-86b2-4298-a6b4-45f40984d976",
   "metadata": {},
   "outputs": [
    {
     "data": {
      "text/plain": [
       "DatetimeIndex(['2004-05-13', '2004-05-14', '2004-05-15', '2004-05-16',\n",
       "               '2004-05-17', '2004-05-18', '2004-05-19', '2004-05-20',\n",
       "               '2004-05-21', '2004-05-22',\n",
       "               ...\n",
       "               '2024-06-24', '2024-06-25', '2024-06-26', '2024-06-27',\n",
       "               '2024-06-28', '2024-06-29', '2024-06-30', '2024-07-01',\n",
       "               '2024-07-02', '2024-07-03'],\n",
       "              dtype='datetime64[ns]', name='datetime', length=7357, freq='D')"
      ]
     },
     "execution_count": 535,
     "metadata": {},
     "output_type": "execute_result"
    }
   ],
   "source": [
    "df.index"
   ]
  },
  {
   "cell_type": "markdown",
   "id": "758cf627-b694-4913-9cfb-cd18052dcc78",
   "metadata": {},
   "source": [
    "#### Handling missing values"
   ]
  },
  {
   "cell_type": "code",
   "execution_count": 536,
   "id": "0f08c8ce-44c1-4341-901b-898aaaaccabb",
   "metadata": {},
   "outputs": [],
   "source": [
    "df = df.filter(['datetime','precip','precipprob',  'precipcover', 'preciptype','windgust', 'windspeed', 'winddir', 'tempmax', 'tempmin', 'temp','dew', 'humidity', 'sealevelpressure', 'moonphase', 'flood occurrence'] , axis=1)"
   ]
  },
  {
   "cell_type": "code",
   "execution_count": 537,
   "id": "418d7350-b1c6-4368-be63-51ac00b8dc2f",
   "metadata": {},
   "outputs": [
    {
     "data": {
      "text/plain": [
       "243"
      ]
     },
     "execution_count": 537,
     "metadata": {},
     "output_type": "execute_result"
    }
   ],
   "source": [
    "df.duplicated().sum()"
   ]
  },
  {
   "cell_type": "code",
   "execution_count": 538,
   "id": "7328f597-0669-45a0-ab27-96b6892a574c",
   "metadata": {},
   "outputs": [],
   "source": [
    "df.drop_duplicates(inplace = True)"
   ]
  },
  {
   "cell_type": "code",
   "execution_count": 539,
   "id": "65bdcf8b-bfce-4e8e-8e75-d2807648fb2f",
   "metadata": {},
   "outputs": [
    {
     "data": {
      "text/plain": [
       "0"
      ]
     },
     "execution_count": 539,
     "metadata": {},
     "output_type": "execute_result"
    }
   ],
   "source": [
    "df.duplicated().sum()"
   ]
  },
  {
   "cell_type": "code",
   "execution_count": 540,
   "id": "ee94e26b-6b75-4ad7-9d2b-dbea8991ea58",
   "metadata": {},
   "outputs": [
    {
     "data": {
      "text/plain": [
       "precip                93\n",
       "precipprob            93\n",
       "precipcover            0\n",
       "preciptype          3774\n",
       "windgust            1694\n",
       "windspeed            357\n",
       "winddir              471\n",
       "tempmax               93\n",
       "tempmin               93\n",
       "temp                  93\n",
       "dew                   93\n",
       "humidity              93\n",
       "sealevelpressure     278\n",
       "moonphase            357\n",
       "flood occurrence    3633\n",
       "dtype: int64"
      ]
     },
     "execution_count": 540,
     "metadata": {},
     "output_type": "execute_result"
    }
   ],
   "source": [
    "df.isna().sum()"
   ]
  },
  {
   "cell_type": "code",
   "execution_count": 541,
   "id": "394a38aa-0a9e-4ea1-8d8c-17b32122a99d",
   "metadata": {},
   "outputs": [
    {
     "name": "stderr",
     "output_type": "stream",
     "text": [
      "C:\\Users\\HP\\AppData\\Local\\Temp\\ipykernel_13080\\2972831032.py:1: FutureWarning: A value is trying to be set on a copy of a DataFrame or Series through chained assignment using an inplace method.\n",
      "The behavior will change in pandas 3.0. This inplace method will never work because the intermediate object on which we are setting values always behaves as a copy.\n",
      "\n",
      "For example, when doing 'df[col].method(value, inplace=True)', try using 'df.method({col: value}, inplace=True)' or df[col] = df[col].method(value) instead, to perform the operation inplace on the original object.\n",
      "\n",
      "\n",
      "  df.preciptype.fillna('no_rain', inplace=True)\n"
     ]
    }
   ],
   "source": [
    "df.preciptype.fillna('no_rain', inplace=True)"
   ]
  },
  {
   "cell_type": "code",
   "execution_count": 542,
   "id": "d868ba1d-b82e-459d-9ff9-2610a3fef8a8",
   "metadata": {},
   "outputs": [
    {
     "name": "stderr",
     "output_type": "stream",
     "text": [
      "C:\\Users\\HP\\AppData\\Local\\Temp\\ipykernel_13080\\2983379472.py:2: FutureWarning: A value is trying to be set on a copy of a DataFrame or Series through chained assignment using an inplace method.\n",
      "The behavior will change in pandas 3.0. This inplace method will never work because the intermediate object on which we are setting values always behaves as a copy.\n",
      "\n",
      "For example, when doing 'df[col].method(value, inplace=True)', try using 'df.method({col: value}, inplace=True)' or df[col] = df[col].method(value) instead, to perform the operation inplace on the original object.\n",
      "\n",
      "\n",
      "  df.windgust.fillna(median, inplace=True)\n"
     ]
    }
   ],
   "source": [
    "median = df.windgust.median()\n",
    "df.windgust.fillna(median, inplace=True)"
   ]
  },
  {
   "cell_type": "code",
   "execution_count": 543,
   "id": "26290dd9-55d0-4305-a9b1-f2687fa21513",
   "metadata": {},
   "outputs": [
    {
     "name": "stderr",
     "output_type": "stream",
     "text": [
      "C:\\Users\\HP\\AppData\\Local\\Temp\\ipykernel_13080\\1608615473.py:2: FutureWarning: A value is trying to be set on a copy of a DataFrame or Series through chained assignment using an inplace method.\n",
      "The behavior will change in pandas 3.0. This inplace method will never work because the intermediate object on which we are setting values always behaves as a copy.\n",
      "\n",
      "For example, when doing 'df[col].method(value, inplace=True)', try using 'df.method({col: value}, inplace=True)' or df[col] = df[col].method(value) instead, to perform the operation inplace on the original object.\n",
      "\n",
      "\n",
      "  df.sealevelpressure.fillna(median, inplace=True)\n"
     ]
    }
   ],
   "source": [
    "median = df.sealevelpressure.median()\n",
    "df.sealevelpressure.fillna(median, inplace=True)"
   ]
  },
  {
   "cell_type": "code",
   "execution_count": 544,
   "id": "936c58f3-e42d-4155-b935-73e4d4bef3d4",
   "metadata": {},
   "outputs": [],
   "source": [
    "df['flood_occurrence'] = df['precipcover'].apply(lambda x: 1 if x > 20 else 0)"
   ]
  },
  {
   "cell_type": "code",
   "execution_count": 545,
   "id": "d3ab612a-4eb4-4d38-9c74-ad0132a1f7b0",
   "metadata": {},
   "outputs": [],
   "source": [
    "df.dropna(inplace=True)"
   ]
  },
  {
   "cell_type": "code",
   "execution_count": 546,
   "id": "e5d7ab13-b2e5-439b-ab9a-df08c19b2934",
   "metadata": {},
   "outputs": [],
   "source": [
    "flood_df = df[df['flood_occurrence'] == 1]"
   ]
  },
  {
   "cell_type": "code",
   "execution_count": 547,
   "id": "dae94286-a607-4b93-88fc-bf7726f14c7a",
   "metadata": {},
   "outputs": [
    {
     "data": {
      "text/plain": [
       "Index([2010, 2015, 2015, 2015, 2015, 2015, 2015, 2015, 2015, 2015,\n",
       "       ...\n",
       "       2023, 2024, 2024, 2024, 2024, 2024, 2024, 2024, 2024, 2024],\n",
       "      dtype='int32', name='datetime', length=311)"
      ]
     },
     "execution_count": 547,
     "metadata": {},
     "output_type": "execute_result"
    }
   ],
   "source": [
    "flood_df.index.year"
   ]
  },
  {
   "cell_type": "code",
   "execution_count": 548,
   "id": "4d704c87-24fd-42c6-b5c4-b37d4f2c6794",
   "metadata": {},
   "outputs": [
    {
     "data": {
      "image/png": "[encoded data removed]",
      "text/plain": [
       "<Figure size 1500x500 with 1 Axes>"
      ]
     },
     "metadata": {},
     "output_type": "display_data"
    }
   ],
   "source": [
    "# show the trend of flood occurence by year\n",
    "plt.figure(figsize=(15,5))\n",
    "plt.title('Number of Flood Occurence by Year')\n",
    "sns.countplot(data=flood_df, x= flood_df.index.year)\n",
    "plt.show()"
   ]
  },
  {
   "cell_type": "code",
   "execution_count": 549,
   "id": "fa72c2b0-86c2-49bf-af75-55c83765c3d4",
   "metadata": {},
   "outputs": [
    {
     "name": "stdout",
     "output_type": "stream",
     "text": [
      "<class 'pandas.core.frame.DataFrame'>\n",
      "DatetimeIndex: 3479 entries, 2004-08-13 to 2024-07-03\n",
      "Data columns (total 16 columns):\n",
      " #   Column            Non-Null Count  Dtype  \n",
      "---  ------            --------------  -----  \n",
      " 0   precip            3479 non-null   float64\n",
      " 1   precipprob        3479 non-null   float64\n",
      " 2   precipcover       3479 non-null   float64\n",
      " 3   preciptype        3479 non-null   object \n",
      " 4   windgust          3479 non-null   float64\n",
      " 5   windspeed         3479 non-null   float64\n",
      " 6   winddir           3479 non-null   float64\n",
      " 7   tempmax           3479 non-null   float64\n",
      " 8   tempmin           3479 non-null   float64\n",
      " 9   temp              3479 non-null   float64\n",
      " 10  dew               3479 non-null   float64\n",
      " 11  humidity          3479 non-null   float64\n",
      " 12  sealevelpressure  3479 non-null   float64\n",
      " 13  moonphase         3479 non-null   float64\n",
      " 14  flood occurrence  3479 non-null   float64\n",
      " 15  flood_occurrence  3479 non-null   int64  \n",
      "dtypes: float64(14), int64(1), object(1)\n",
      "memory usage: 462.1+ KB\n"
     ]
    }
   ],
   "source": [
    "df.info()"
   ]
  },
  {
   "cell_type": "code",
   "execution_count": 550,
   "id": "8ac4dfe2-4070-4e86-b1b8-07ee79587738",
   "metadata": {},
   "outputs": [
    {
     "data": {
      "text/plain": [
       "precip              0\n",
       "precipprob          0\n",
       "precipcover         0\n",
       "preciptype          0\n",
       "windgust            0\n",
       "windspeed           0\n",
       "winddir             0\n",
       "tempmax             0\n",
       "tempmin             0\n",
       "temp                0\n",
       "dew                 0\n",
       "humidity            0\n",
       "sealevelpressure    0\n",
       "moonphase           0\n",
       "flood occurrence    0\n",
       "flood_occurrence    0\n",
       "dtype: int64"
      ]
     },
     "execution_count": 550,
     "metadata": {},
     "output_type": "execute_result"
    }
   ],
   "source": [
    "df.isna().sum()"
   ]
  },
  {
   "cell_type": "code",
   "execution_count": 551,
   "id": "29a09c36-5439-412f-aa7c-2268d50ab2cb",
   "metadata": {},
   "outputs": [
    {
     "name": "stdout",
     "output_type": "stream",
     "text": [
      "Missing values in data:\n",
      " precip              0\n",
      "precipprob          0\n",
      "precipcover         0\n",
      "preciptype          0\n",
      "windgust            0\n",
      "windspeed           0\n",
      "winddir             0\n",
      "tempmax             0\n",
      "tempmin             0\n",
      "temp                0\n",
      "dew                 0\n",
      "humidity            0\n",
      "sealevelpressure    0\n",
      "moonphase           0\n",
      "flood occurrence    0\n",
      "flood_occurrence    0\n",
      "dtype: int64\n"
     ]
    }
   ],
   "source": [
    "\n",
    "# Check for missing values after preprocessing\n",
    "print(\"Missing values in data:\\n\", df.isnull().sum())"
   ]
  },
  {
   "cell_type": "markdown",
   "id": "1008de5b-2875-4464-ba2d-f9510a178f31",
   "metadata": {},
   "source": [
    "# Using ARIMA to predict with flood occurence"
   ]
  },
  {
   "cell_type": "markdown",
   "id": "03d43e09-400b-4712-b582-fbbf5dbc0b5c",
   "metadata": {},
   "source": [
    "Let us fit the model"
   ]
  },
  {
   "cell_type": "code",
   "execution_count": 553,
   "id": "1940c2b3-996b-4feb-bba6-553b0cd9a0a8",
   "metadata": {},
   "outputs": [],
   "source": [
    "df_flood = df['flood_occurrence']"
   ]
  },
  {
   "cell_type": "code",
   "execution_count": 580,
   "id": "df0f54b2-de8c-429d-b053-ba9ce377d68e",
   "metadata": {},
   "outputs": [
    {
     "name": "stderr",
     "output_type": "stream",
     "text": [
      "C:\\python_install\\Lib\\site-packages\\statsmodels\\tsa\\base\\tsa_model.py:473: ValueWarning: A date index has been provided, but it has no associated frequency information and so will be ignored when e.g. forecasting.\n",
      "  self._init_dates(dates, freq)\n",
      "C:\\python_install\\Lib\\site-packages\\statsmodels\\tsa\\base\\tsa_model.py:473: ValueWarning: A date index has been provided, but it has no associated frequency information and so will be ignored when e.g. forecasting.\n",
      "  self._init_dates(dates, freq)\n",
      "C:\\python_install\\Lib\\site-packages\\statsmodels\\tsa\\base\\tsa_model.py:473: ValueWarning: A date index has been provided, but it has no associated frequency information and so will be ignored when e.g. forecasting.\n",
      "  self._init_dates(dates, freq)\n",
      "C:\\python_install\\Lib\\site-packages\\statsmodels\\tsa\\base\\tsa_model.py:836: ValueWarning: No supported index is available. Prediction results will be given with an integer index beginning at `start`.\n",
      "  return get_prediction_index(\n",
      "C:\\python_install\\Lib\\site-packages\\statsmodels\\tsa\\base\\tsa_model.py:836: FutureWarning: No supported index is available. In the next version, calling this method in a model without a supported index will result in an exception.\n",
      "  return get_prediction_index(\n"
     ]
    }
   ],
   "source": [
    "model = ARIMA(df_flood, order = (5,1,0))\n",
    "model_fit = model.fit()\n",
    "forecast = model_fit.forecast(steps = 8)\n",
    "forecast_index = pd.date_range(start = df_flood.index[-1], periods = 10, freq = 'D')[5:]\n",
    "heavy_rain_threshold = 0.7\n",
    "flood_days = forecast[forecast > heavy_rain_threshold].head(7)\n",
    "values_list = flood_days.tolist()\n",
    "flood_prediction = pd.DataFrame(values_list, forecast_index, columns =  ['Flood prediction'])"
   ]
  },
  {
   "cell_type": "code",
   "execution_count": 579,
   "id": "8262103f-f8dd-4d14-9aaa-91858825a2f6",
   "metadata": {},
   "outputs": [
    {
     "data": {
      "text/html": [
       "<div>\n",
       "<style scoped>\n",
       "    .dataframe tbody tr th:only-of-type {\n",
       "        vertical-align: middle;\n",
       "    }\n",
       "\n",
       "    .dataframe tbody tr th {\n",
       "        vertical-align: top;\n",
       "    }\n",
       "\n",
       "    .dataframe thead th {\n",
       "        text-align: right;\n",
       "    }\n",
       "</style>\n",
       "<table border=\"1\" class=\"dataframe\">\n",
       "  <thead>\n",
       "    <tr style=\"text-align: right;\">\n",
       "      <th></th>\n",
       "      <th>Flood prediction</th>\n",
       "    </tr>\n",
       "  </thead>\n",
       "  <tbody>\n",
       "    <tr>\n",
       "      <th>2024-07-08</th>\n",
       "      <td>0.790888</td>\n",
       "    </tr>\n",
       "    <tr>\n",
       "      <th>2024-07-09</th>\n",
       "      <td>0.778454</td>\n",
       "    </tr>\n",
       "    <tr>\n",
       "      <th>2024-07-10</th>\n",
       "      <td>0.759639</td>\n",
       "    </tr>\n",
       "    <tr>\n",
       "      <th>2024-07-11</th>\n",
       "      <td>0.724173</td>\n",
       "    </tr>\n",
       "    <tr>\n",
       "      <th>2024-07-12</th>\n",
       "      <td>0.732145</td>\n",
       "    </tr>\n",
       "  </tbody>\n",
       "</table>\n",
       "</div>"
      ],
      "text/plain": [
       "            Flood prediction\n",
       "2024-07-08          0.790888\n",
       "2024-07-09          0.778454\n",
       "2024-07-10          0.759639\n",
       "2024-07-11          0.724173\n",
       "2024-07-12          0.732145"
      ]
     },
     "execution_count": 579,
     "metadata": {},
     "output_type": "execute_result"
    }
   ],
   "source": [
    "flood_prediction"
   ]
  },
  {
   "cell_type": "markdown",
   "id": "b7260df1-099c-4482-93c5-aa1b57188721",
   "metadata": {},
   "source": [
    "### From the model prediciton the next flooding date would be on the 8th and 9th of July 2024\n",
    "\n",
    "We used the flood occurence column and analyzing with ARIMA, 8th of july is the day with the highest flood capacity"
   ]
  },
  {
   "cell_type": "markdown",
   "id": "8cbde1b3-6955-401e-8e63-13029a234652",
   "metadata": {},
   "source": [
    "# Using ARIMA to predict with precipitation"
   ]
  },
  {
   "cell_type": "code",
   "execution_count": 474,
   "id": "68c22ba2-7d35-405f-8b25-81dc83a9c4a4",
   "metadata": {},
   "outputs": [],
   "source": [
    "df_precip = df['precip']"
   ]
  },
  {
   "cell_type": "code",
   "execution_count": 608,
   "id": "326ae445-d4a8-44ea-8fbd-af9c21e8c6ce",
   "metadata": {},
   "outputs": [
    {
     "name": "stderr",
     "output_type": "stream",
     "text": [
      "C:\\python_install\\Lib\\site-packages\\statsmodels\\tsa\\base\\tsa_model.py:473: ValueWarning: A date index has been provided, but it has no associated frequency information and so will be ignored when e.g. forecasting.\n",
      "  self._init_dates(dates, freq)\n",
      "C:\\python_install\\Lib\\site-packages\\statsmodels\\tsa\\base\\tsa_model.py:473: ValueWarning: A date index has been provided, but it has no associated frequency information and so will be ignored when e.g. forecasting.\n",
      "  self._init_dates(dates, freq)\n",
      "C:\\python_install\\Lib\\site-packages\\statsmodels\\tsa\\base\\tsa_model.py:473: ValueWarning: A date index has been provided, but it has no associated frequency information and so will be ignored when e.g. forecasting.\n",
      "  self._init_dates(dates, freq)\n",
      "C:\\python_install\\Lib\\site-packages\\statsmodels\\tsa\\base\\tsa_model.py:836: ValueWarning: No supported index is available. Prediction results will be given with an integer index beginning at `start`.\n",
      "  return get_prediction_index(\n",
      "C:\\python_install\\Lib\\site-packages\\statsmodels\\tsa\\base\\tsa_model.py:836: FutureWarning: No supported index is available. In the next version, calling this method in a model without a supported index will result in an exception.\n",
      "  return get_prediction_index(\n"
     ]
    }
   ],
   "source": [
    "model = ARIMA(df_precip, order = (5,1,0))\n",
    "model_fit = model.fit()\n",
    "forecast = model_fit.forecast(steps = 11)\n",
    "heavy_rain_threshold = 21\n",
    "flood_days = forecast[forecast > heavy_rain_threshold]\n",
    "forecast_index = pd.date_range(start = df_precip.index[-1], periods = 10, freq = 'D')[5:]\n",
    "values_list = flood_days.tolist()\n",
    "flood_prediction = pd.DataFrame(values_list, forecast_index, columns =  ['Flood prediction'])"
   ]
  },
  {
   "cell_type": "code",
   "execution_count": 609,
   "id": "c504308f-492e-403d-aa4f-696c876c1493",
   "metadata": {},
   "outputs": [
    {
     "data": {
      "text/html": [
       "<div>\n",
       "<style scoped>\n",
       "    .dataframe tbody tr th:only-of-type {\n",
       "        vertical-align: middle;\n",
       "    }\n",
       "\n",
       "    .dataframe tbody tr th {\n",
       "        vertical-align: top;\n",
       "    }\n",
       "\n",
       "    .dataframe thead th {\n",
       "        text-align: right;\n",
       "    }\n",
       "</style>\n",
       "<table border=\"1\" class=\"dataframe\">\n",
       "  <thead>\n",
       "    <tr style=\"text-align: right;\">\n",
       "      <th></th>\n",
       "      <th>Flood prediction</th>\n",
       "    </tr>\n",
       "  </thead>\n",
       "  <tbody>\n",
       "    <tr>\n",
       "      <th>2024-07-08</th>\n",
       "      <td>21.990016</td>\n",
       "    </tr>\n",
       "    <tr>\n",
       "      <th>2024-07-09</th>\n",
       "      <td>25.046303</td>\n",
       "    </tr>\n",
       "    <tr>\n",
       "      <th>2024-07-10</th>\n",
       "      <td>21.231725</td>\n",
       "    </tr>\n",
       "    <tr>\n",
       "      <th>2024-07-11</th>\n",
       "      <td>21.371546</td>\n",
       "    </tr>\n",
       "    <tr>\n",
       "      <th>2024-07-12</th>\n",
       "      <td>21.663664</td>\n",
       "    </tr>\n",
       "  </tbody>\n",
       "</table>\n",
       "</div>"
      ],
      "text/plain": [
       "            Flood prediction\n",
       "2024-07-08         21.990016\n",
       "2024-07-09         25.046303\n",
       "2024-07-10         21.231725\n",
       "2024-07-11         21.371546\n",
       "2024-07-12         21.663664"
      ]
     },
     "execution_count": 609,
     "metadata": {},
     "output_type": "execute_result"
    }
   ],
   "source": [
    "flood_prediction"
   ]
  },
  {
   "cell_type": "code",
   "execution_count": null,
   "id": "55b2a0e4-700d-49b8-9c51-282051c07640",
   "metadata": {},
   "outputs": [],
   "source": []
  },
  {
   "cell_type": "markdown",
   "id": "bdc62916-d685-4f08-bc3f-afdcd4be2c3c",
   "metadata": {},
   "source": [
    "# Using ARIMA with precipitation cover"
   ]
  },
  {
   "cell_type": "code",
   "execution_count": 615,
   "id": "2fde5e21-b71d-4d2d-b912-92e3f03f54cd",
   "metadata": {},
   "outputs": [
    {
     "name": "stderr",
     "output_type": "stream",
     "text": [
      "C:\\python_install\\Lib\\site-packages\\statsmodels\\tsa\\base\\tsa_model.py:473: ValueWarning: A date index has been provided, but it has no associated frequency information and so will be ignored when e.g. forecasting.\n",
      "  self._init_dates(dates, freq)\n",
      "C:\\python_install\\Lib\\site-packages\\statsmodels\\tsa\\base\\tsa_model.py:473: ValueWarning: A date index has been provided, but it has no associated frequency information and so will be ignored when e.g. forecasting.\n",
      "  self._init_dates(dates, freq)\n",
      "C:\\python_install\\Lib\\site-packages\\statsmodels\\tsa\\base\\tsa_model.py:473: ValueWarning: A date index has been provided, but it has no associated frequency information and so will be ignored when e.g. forecasting.\n",
      "  self._init_dates(dates, freq)\n",
      "C:\\python_install\\Lib\\site-packages\\statsmodels\\tsa\\base\\tsa_model.py:836: ValueWarning: No supported index is available. Prediction results will be given with an integer index beginning at `start`.\n",
      "  return get_prediction_index(\n",
      "C:\\python_install\\Lib\\site-packages\\statsmodels\\tsa\\base\\tsa_model.py:836: FutureWarning: No supported index is available. In the next version, calling this method in a model without a supported index will result in an exception.\n",
      "  return get_prediction_index(\n"
     ]
    },
    {
     "data": {
      "text/html": [
       "<div>\n",
       "<style scoped>\n",
       "    .dataframe tbody tr th:only-of-type {\n",
       "        vertical-align: middle;\n",
       "    }\n",
       "\n",
       "    .dataframe tbody tr th {\n",
       "        vertical-align: top;\n",
       "    }\n",
       "\n",
       "    .dataframe thead th {\n",
       "        text-align: right;\n",
       "    }\n",
       "</style>\n",
       "<table border=\"1\" class=\"dataframe\">\n",
       "  <thead>\n",
       "    <tr style=\"text-align: right;\">\n",
       "      <th></th>\n",
       "      <th>Flood prediction</th>\n",
       "    </tr>\n",
       "  </thead>\n",
       "  <tbody>\n",
       "    <tr>\n",
       "      <th>2024-07-08</th>\n",
       "      <td>56.314406</td>\n",
       "    </tr>\n",
       "    <tr>\n",
       "      <th>2024-07-09</th>\n",
       "      <td>56.591846</td>\n",
       "    </tr>\n",
       "    <tr>\n",
       "      <th>2024-07-10</th>\n",
       "      <td>55.019092</td>\n",
       "    </tr>\n",
       "    <tr>\n",
       "      <th>2024-07-11</th>\n",
       "      <td>55.159068</td>\n",
       "    </tr>\n",
       "  </tbody>\n",
       "</table>\n",
       "</div>"
      ],
      "text/plain": [
       "            Flood prediction\n",
       "2024-07-08         56.314406\n",
       "2024-07-09         56.591846\n",
       "2024-07-10         55.019092\n",
       "2024-07-11         55.159068"
      ]
     },
     "execution_count": 615,
     "metadata": {},
     "output_type": "execute_result"
    }
   ],
   "source": [
    "df_precipcover = df['precipcover']\n",
    "model = ARIMA(df_precipcover, order = (5,1,0))\n",
    "model_fit = model.fit()\n",
    "forecast = model_fit.forecast(steps = 11)\n",
    "heavy_rain_threshold = 55\n",
    "flood_days = forecast[forecast > heavy_rain_threshold]\n",
    "forecast_index = pd.date_range(start = df_precipcover.index[-1], periods = 9, freq = 'D')[5:]\n",
    "values_list = flood_days.tolist()\n",
    "flood_prediction = pd.DataFrame(values_list, forecast_index, columns =  ['Flood prediction'])\n",
    "flood_prediction"
   ]
  },
  {
   "cell_type": "code",
   "execution_count": null,
   "id": "439c407c-a24e-4fb8-9d2d-d2dc2e1dbcd6",
   "metadata": {},
   "outputs": [],
   "source": []
  },
  {
   "cell_type": "markdown",
   "id": "97cb0f44-368b-49a9-b1cc-575db62711ff",
   "metadata": {},
   "source": [
    "# Using ARIMA to predict with moonphase"
   ]
  },
  {
   "cell_type": "code",
   "execution_count": 587,
   "id": "ad1be357-c798-4e6a-afb1-182da8b9ce44",
   "metadata": {},
   "outputs": [],
   "source": [
    "df_cm = df['moonphase']"
   ]
  },
  {
   "cell_type": "code",
   "execution_count": 622,
   "id": "be8e6a9c-5a13-4f2f-ad2b-5c4ac9bdf574",
   "metadata": {},
   "outputs": [
    {
     "name": "stderr",
     "output_type": "stream",
     "text": [
      "C:\\python_install\\Lib\\site-packages\\statsmodels\\tsa\\base\\tsa_model.py:473: ValueWarning: A date index has been provided, but it has no associated frequency information and so will be ignored when e.g. forecasting.\n",
      "  self._init_dates(dates, freq)\n",
      "C:\\python_install\\Lib\\site-packages\\statsmodels\\tsa\\base\\tsa_model.py:473: ValueWarning: A date index has been provided, but it has no associated frequency information and so will be ignored when e.g. forecasting.\n",
      "  self._init_dates(dates, freq)\n",
      "C:\\python_install\\Lib\\site-packages\\statsmodels\\tsa\\base\\tsa_model.py:473: ValueWarning: A date index has been provided, but it has no associated frequency information and so will be ignored when e.g. forecasting.\n",
      "  self._init_dates(dates, freq)\n",
      "C:\\python_install\\Lib\\site-packages\\statsmodels\\tsa\\base\\tsa_model.py:836: ValueWarning: No supported index is available. Prediction results will be given with an integer index beginning at `start`.\n",
      "  return get_prediction_index(\n",
      "C:\\python_install\\Lib\\site-packages\\statsmodels\\tsa\\base\\tsa_model.py:836: FutureWarning: No supported index is available. In the next version, calling this method in a model without a supported index will result in an exception.\n",
      "  return get_prediction_index(\n"
     ]
    },
    {
     "data": {
      "text/html": [
       "<div>\n",
       "<style scoped>\n",
       "    .dataframe tbody tr th:only-of-type {\n",
       "        vertical-align: middle;\n",
       "    }\n",
       "\n",
       "    .dataframe tbody tr th {\n",
       "        vertical-align: top;\n",
       "    }\n",
       "\n",
       "    .dataframe thead th {\n",
       "        text-align: right;\n",
       "    }\n",
       "</style>\n",
       "<table border=\"1\" class=\"dataframe\">\n",
       "  <thead>\n",
       "    <tr style=\"text-align: right;\">\n",
       "      <th></th>\n",
       "      <th>Flood prediction</th>\n",
       "    </tr>\n",
       "  </thead>\n",
       "  <tbody>\n",
       "    <tr>\n",
       "      <th>2024-07-08</th>\n",
       "      <td>0.902886</td>\n",
       "    </tr>\n",
       "    <tr>\n",
       "      <th>2024-07-09</th>\n",
       "      <td>0.897754</td>\n",
       "    </tr>\n",
       "    <tr>\n",
       "      <th>2024-07-10</th>\n",
       "      <td>0.893606</td>\n",
       "    </tr>\n",
       "    <tr>\n",
       "      <th>2024-07-11</th>\n",
       "      <td>0.891337</td>\n",
       "    </tr>\n",
       "    <tr>\n",
       "      <th>2024-07-12</th>\n",
       "      <td>0.890338</td>\n",
       "    </tr>\n",
       "  </tbody>\n",
       "</table>\n",
       "</div>"
      ],
      "text/plain": [
       "            Flood prediction\n",
       "2024-07-08          0.902886\n",
       "2024-07-09          0.897754\n",
       "2024-07-10          0.893606\n",
       "2024-07-11          0.891337\n",
       "2024-07-12          0.890338"
      ]
     },
     "execution_count": 622,
     "metadata": {},
     "output_type": "execute_result"
    }
   ],
   "source": [
    "model = ARIMA(df_cm, order = (5,1,0))\n",
    "model_fit = model.fit()\n",
    "forecast = model_fit.forecast(steps = 11)\n",
    "heavy_rain_threshold = 0.89\n",
    "flood_days = forecast[forecast > heavy_rain_threshold].head(5)\n",
    "forecast_index = pd.date_range(start = df_cm.index[-1], periods = 10, freq = 'D')[5:]\n",
    "values_list = flood_days.tolist()\n",
    "flood_prediction = pd.DataFrame(values_list, forecast_index, columns =  ['Flood prediction'])\n",
    "flood_prediction"
   ]
  },
  {
   "cell_type": "markdown",
   "id": "d7d67015-251e-42a8-9280-e5b313d7aec0",
   "metadata": {},
   "source": [
    "I used ARIMA on the moonphase again and i got the predicition for 8th of July and 9th of July 2024"
   ]
  },
  {
   "cell_type": "code",
   "execution_count": null,
   "id": "5cbd9094-eead-410b-aec8-c94e10ea18ee",
   "metadata": {},
   "outputs": [],
   "source": []
  },
  {
   "cell_type": "markdown",
   "id": "e13a77d4-db48-410c-afb7-30a0dd9ed500",
   "metadata": {},
   "source": [
    "# Using ARIMA on precipitation probability"
   ]
  },
  {
   "cell_type": "code",
   "execution_count": 590,
   "id": "ef86932c-a56e-41d9-9016-c0dae6d64882",
   "metadata": {},
   "outputs": [],
   "source": [
    "df_prob = df['precipprob']"
   ]
  },
  {
   "cell_type": "code",
   "execution_count": 629,
   "id": "6947b753-bdf4-4437-b413-677db079289b",
   "metadata": {},
   "outputs": [
    {
     "name": "stderr",
     "output_type": "stream",
     "text": [
      "C:\\python_install\\Lib\\site-packages\\statsmodels\\tsa\\base\\tsa_model.py:473: ValueWarning: A date index has been provided, but it has no associated frequency information and so will be ignored when e.g. forecasting.\n",
      "  self._init_dates(dates, freq)\n",
      "C:\\python_install\\Lib\\site-packages\\statsmodels\\tsa\\base\\tsa_model.py:473: ValueWarning: A date index has been provided, but it has no associated frequency information and so will be ignored when e.g. forecasting.\n",
      "  self._init_dates(dates, freq)\n",
      "C:\\python_install\\Lib\\site-packages\\statsmodels\\tsa\\base\\tsa_model.py:473: ValueWarning: A date index has been provided, but it has no associated frequency information and so will be ignored when e.g. forecasting.\n",
      "  self._init_dates(dates, freq)\n",
      "C:\\python_install\\Lib\\site-packages\\statsmodels\\tsa\\base\\tsa_model.py:836: ValueWarning: No supported index is available. Prediction results will be given with an integer index beginning at `start`.\n",
      "  return get_prediction_index(\n",
      "C:\\python_install\\Lib\\site-packages\\statsmodels\\tsa\\base\\tsa_model.py:836: FutureWarning: No supported index is available. In the next version, calling this method in a model without a supported index will result in an exception.\n",
      "  return get_prediction_index(\n"
     ]
    },
    {
     "data": {
      "text/html": [
       "<div>\n",
       "<style scoped>\n",
       "    .dataframe tbody tr th:only-of-type {\n",
       "        vertical-align: middle;\n",
       "    }\n",
       "\n",
       "    .dataframe tbody tr th {\n",
       "        vertical-align: top;\n",
       "    }\n",
       "\n",
       "    .dataframe thead th {\n",
       "        text-align: right;\n",
       "    }\n",
       "</style>\n",
       "<table border=\"1\" class=\"dataframe\">\n",
       "  <thead>\n",
       "    <tr style=\"text-align: right;\">\n",
       "      <th></th>\n",
       "      <th>Flood prediction</th>\n",
       "    </tr>\n",
       "  </thead>\n",
       "  <tbody>\n",
       "    <tr>\n",
       "      <th>2024-07-08</th>\n",
       "      <td>100.0</td>\n",
       "    </tr>\n",
       "    <tr>\n",
       "      <th>2024-07-09</th>\n",
       "      <td>100.0</td>\n",
       "    </tr>\n",
       "    <tr>\n",
       "      <th>2024-07-10</th>\n",
       "      <td>100.0</td>\n",
       "    </tr>\n",
       "    <tr>\n",
       "      <th>2024-07-11</th>\n",
       "      <td>100.0</td>\n",
       "    </tr>\n",
       "    <tr>\n",
       "      <th>2024-07-12</th>\n",
       "      <td>100.0</td>\n",
       "    </tr>\n",
       "  </tbody>\n",
       "</table>\n",
       "</div>"
      ],
      "text/plain": [
       "            Flood prediction\n",
       "2024-07-08             100.0\n",
       "2024-07-09             100.0\n",
       "2024-07-10             100.0\n",
       "2024-07-11             100.0\n",
       "2024-07-12             100.0"
      ]
     },
     "execution_count": 629,
     "metadata": {},
     "output_type": "execute_result"
    }
   ],
   "source": [
    "model = ARIMA(df_prob, order = (5,1,0))\n",
    "model_fit = model.fit()\n",
    "forecast = model_fit.forecast(steps = 11)\n",
    "heavy_rain_threshold = 100\n",
    "flood_days = forecast[forecast == heavy_rain_threshold].head(5)\n",
    "forecast_index = pd.date_range(start = df_prob.index[-1], periods = 10, freq = 'D')[5:]\n",
    "values_list = flood_days.tolist()\n",
    "flood_prediction = pd.DataFrame(values_list, forecast_index, columns =  ['Flood prediction'])\n",
    "flood_prediction"
   ]
  },
  {
   "cell_type": "markdown",
   "id": "901a5ddf-75b7-4d1a-b228-7415feb47812",
   "metadata": {},
   "source": [
    "###### Using precipitation probabiblity, the preobabilty for precipitation on 8th of July is 100 percent"
   ]
  },
  {
   "cell_type": "markdown",
   "id": "35f01b30-bd4c-4dc1-b49e-491820c65507",
   "metadata": {},
   "source": [
    "# Using ARIMA with humidity"
   ]
  },
  {
   "cell_type": "code",
   "execution_count": 593,
   "id": "7e9e51cd-46fe-40cd-935d-71b34ca1c319",
   "metadata": {},
   "outputs": [],
   "source": [
    "df_hum = df['humidity']"
   ]
  },
  {
   "cell_type": "code",
   "execution_count": 625,
   "id": "eb2dba2a-7f39-4104-a983-7500812b8a32",
   "metadata": {},
   "outputs": [
    {
     "name": "stderr",
     "output_type": "stream",
     "text": [
      "C:\\python_install\\Lib\\site-packages\\statsmodels\\tsa\\base\\tsa_model.py:473: ValueWarning: A date index has been provided, but it has no associated frequency information and so will be ignored when e.g. forecasting.\n",
      "  self._init_dates(dates, freq)\n",
      "C:\\python_install\\Lib\\site-packages\\statsmodels\\tsa\\base\\tsa_model.py:473: ValueWarning: A date index has been provided, but it has no associated frequency information and so will be ignored when e.g. forecasting.\n",
      "  self._init_dates(dates, freq)\n",
      "C:\\python_install\\Lib\\site-packages\\statsmodels\\tsa\\base\\tsa_model.py:473: ValueWarning: A date index has been provided, but it has no associated frequency information and so will be ignored when e.g. forecasting.\n",
      "  self._init_dates(dates, freq)\n",
      "C:\\python_install\\Lib\\site-packages\\statsmodels\\tsa\\base\\tsa_model.py:836: ValueWarning: No supported index is available. Prediction results will be given with an integer index beginning at `start`.\n",
      "  return get_prediction_index(\n",
      "C:\\python_install\\Lib\\site-packages\\statsmodels\\tsa\\base\\tsa_model.py:836: FutureWarning: No supported index is available. In the next version, calling this method in a model without a supported index will result in an exception.\n",
      "  return get_prediction_index(\n"
     ]
    }
   ],
   "source": [
    "model = ARIMA(df_hum, order = (5,1,0))\n",
    "model_fit = model.fit()\n",
    "forecast = model_fit.forecast(steps = 11)\n",
    "heavy_rain_threshold = 88.9\n",
    "flood_days = forecast[forecast > heavy_rain_threshold].head(5)\n",
    "forecast_index = pd.date_range(start = df_hum.index[-1], periods = 10, freq = 'D')[5:]\n",
    "values_list = flood_days.tolist()\n",
    "flood_prediction = pd.DataFrame(values_list, forecast_index, columns =  ['Flood prediction'])"
   ]
  },
  {
   "cell_type": "code",
   "execution_count": 626,
   "id": "aaeb3c26-95c5-4347-9636-a70f6988a834",
   "metadata": {},
   "outputs": [
    {
     "data": {
      "text/html": [
       "<div>\n",
       "<style scoped>\n",
       "    .dataframe tbody tr th:only-of-type {\n",
       "        vertical-align: middle;\n",
       "    }\n",
       "\n",
       "    .dataframe tbody tr th {\n",
       "        vertical-align: top;\n",
       "    }\n",
       "\n",
       "    .dataframe thead th {\n",
       "        text-align: right;\n",
       "    }\n",
       "</style>\n",
       "<table border=\"1\" class=\"dataframe\">\n",
       "  <thead>\n",
       "    <tr style=\"text-align: right;\">\n",
       "      <th></th>\n",
       "      <th>Flood prediction</th>\n",
       "    </tr>\n",
       "  </thead>\n",
       "  <tbody>\n",
       "    <tr>\n",
       "      <th>2024-07-08</th>\n",
       "      <td>90.658551</td>\n",
       "    </tr>\n",
       "    <tr>\n",
       "      <th>2024-07-09</th>\n",
       "      <td>89.706514</td>\n",
       "    </tr>\n",
       "    <tr>\n",
       "      <th>2024-07-10</th>\n",
       "      <td>89.362526</td>\n",
       "    </tr>\n",
       "    <tr>\n",
       "      <th>2024-07-11</th>\n",
       "      <td>89.431434</td>\n",
       "    </tr>\n",
       "    <tr>\n",
       "      <th>2024-07-12</th>\n",
       "      <td>89.371049</td>\n",
       "    </tr>\n",
       "  </tbody>\n",
       "</table>\n",
       "</div>"
      ],
      "text/plain": [
       "            Flood prediction\n",
       "2024-07-08         90.658551\n",
       "2024-07-09         89.706514\n",
       "2024-07-10         89.362526\n",
       "2024-07-11         89.431434\n",
       "2024-07-12         89.371049"
      ]
     },
     "execution_count": 626,
     "metadata": {},
     "output_type": "execute_result"
    }
   ],
   "source": [
    "flood_prediction"
   ]
  },
  {
   "cell_type": "markdown",
   "id": "c62a2d94-69fc-4f9b-ad30-71083deccf3c",
   "metadata": {},
   "source": [
    "###### We also got 8th of July to be the day with the highest humidity levels."
   ]
  },
  {
   "cell_type": "code",
   "execution_count": null,
   "id": "06e6171a-e7f9-4fca-bc8b-bf8c202bd9b3",
   "metadata": {},
   "outputs": [],
   "source": []
  },
  {
   "cell_type": "markdown",
   "id": "2cbad662-ac3e-4ac2-afcd-9b224a2ef2bb",
   "metadata": {},
   "source": [
    "# Conclusion\n",
    "The next flood prediction date is 8th of July and 9th of July 2024.\n",
    "I used ARIMA  stats model on each of the following and all the tested 8th and 9th of July as the next prediciton date:\n",
    "- The flood occurence was the highest on 8th and 9th of July. \n",
    "- The precipitation cover was the high on both day. Precipitation Cover tells the percentage of time during the reporting window that the precipitation actually occurred. More extended period of rain increases flood risk.\n",
    "- The precipitation was also the highest on both days. Direct measurement of precipiation indicate more rain.\n",
    "- The precipitation probability indicated it would rain on the 8th and 9th of July.\n",
    "- The moonphase were also high on both days, water level rise during full moon. \n",
    "- The humidity levels were the highes on both days. High humidity levels can lead to more precipitation.\n"
   ]
  },
  {
   "cell_type": "code",
   "execution_count": null,
   "id": "2afa9041-7b17-43a5-bd71-b71cf721eb34",
   "metadata": {},
   "outputs": [],
   "source": []
  }
 ],
 "metadata": {
  "kernelspec": {
   "display_name": "Python 3 (ipykernel)",
   "language": "python",
   "name": "python3"
  },
  "language_info": {
   "codemirror_mode": {
    "name": "ipython",
    "version": 3
   },
   "file_extension": ".py",
   "mimetype": "text/x-python",
   "name": "python",
   "nbconvert_exporter": "python",
   "pygments_lexer": "ipython3",
   "version": "3.11.6"
  }
 },
 "nbformat": 4,
 "nbformat_minor": 5
}
